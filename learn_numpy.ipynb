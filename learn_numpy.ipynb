{
 "cells": [
  {
   "cell_type": "code",
   "execution_count": 1,
   "metadata": {},
   "outputs": [],
   "source": [
    "import numpy as np\n",
    "import matplotlib.pyplot as plt"
   ]
  },
  {
   "cell_type": "markdown",
   "metadata": {},
   "source": [
    "### Introduction"
   ]
  },
  {
   "cell_type": "code",
   "execution_count": 2,
   "metadata": {},
   "outputs": [
    {
     "name": "stdout",
     "output_type": "stream",
     "text": [
      "[0 1 2 3 4 5 6 7 8 9]\n",
      "[[ 3  4  5]\n",
      " [ 6  7  8]\n",
      " [ 9 10 11]]\n"
     ]
    }
   ],
   "source": [
    "list_1d = [x for x in range(10)]\n",
    "list_of_lists = [[3, 4, 5],\n",
    "                 [6, 7, 8],\n",
    "                 [9, 10, 11]]\n",
    "\n",
    "x_1d = np.array(list_1d)\n",
    "x_2d = np.array(list_of_lists)\n",
    "print(x_1d)\n",
    "print(x_2d)"
   ]
  },
  {
   "cell_type": "code",
   "execution_count": 3,
   "metadata": {},
   "outputs": [
    {
     "name": "stdout",
     "output_type": "stream",
     "text": [
      "[-3 -2 -1  0  1  2]\n",
      "[[0. 0. 0.]\n",
      " [0. 0. 0.]\n",
      " [0. 0. 0.]\n",
      " [0. 0. 0.]\n",
      " [0. 0. 0.]]\n"
     ]
    }
   ],
   "source": [
    "x_range1 = np.arange(-3, 3)\n",
    "x_zeros = np.zeros((5, 3))\n",
    "print(x_range1)\n",
    "print(x_zeros)"
   ]
  },
  {
   "cell_type": "code",
   "execution_count": 4,
   "metadata": {},
   "outputs": [
    {
     "data": {
      "image/png": "[encoded data removed]",
      "text/plain": [
       "<Figure size 432x288 with 1 Axes>"
      ]
     },
     "metadata": {
      "needs_background": "light"
     },
     "output_type": "display_data"
    }
   ],
   "source": [
    "plt.scatter(np.arange(0,7), np.arange(-3, 4))\n",
    "plt.show()"
   ]
  },
  {
   "cell_type": "markdown",
   "metadata": {},
   "source": [
    "### 2D, 3D, 4D Arrays"
   ]
  },
  {
   "cell_type": "code",
   "execution_count": 5,
   "metadata": {},
   "outputs": [
    {
     "name": "stdout",
     "output_type": "stream",
     "text": [
      "(2, 2)\n"
     ]
    }
   ],
   "source": [
    "array_1_2D = np.array([[1, 2], [5, 7]])\n",
    "array_2_2D = np.array([[8, 9], [5, 7]])\n",
    "array_3_2D = np.array([[4, 2], [5, 7]])\n",
    "print(array_1_2D.shape)"
   ]
  },
  {
   "cell_type": "markdown",
   "metadata": {},
   "source": [
    "**3D arrays**"
   ]
  },
  {
   "cell_type": "markdown",
   "metadata": {},
   "source": [
    "a bunch of `2D Arrays` of the same shape stacked together"
   ]
  },
  {
   "cell_type": "code",
   "execution_count": 6,
   "metadata": {},
   "outputs": [
    {
     "name": "stdout",
     "output_type": "stream",
     "text": [
      "(3, 2, 2)\n"
     ]
    }
   ],
   "source": [
    "array_3D = np.array([array_1_2D, array_2_2D, array_3_2D])\n",
    "print(array_3D.shape)"
   ]
  },
  {
   "cell_type": "markdown",
   "metadata": {},
   "source": [
    "**4D Array**"
   ]
  },
  {
   "cell_type": "markdown",
   "metadata": {},
   "source": [
    "A bunch of `3D arrays` of the same shape stacked together"
   ]
  },
  {
   "cell_type": "code",
   "execution_count": 7,
   "metadata": {},
   "outputs": [],
   "source": [
    "array_3D_2 = np.array([array_1_2D, array_2_2D, array_3_2D])"
   ]
  },
  {
   "cell_type": "code",
   "execution_count": 8,
   "metadata": {},
   "outputs": [],
   "source": [
    "array_4D = np.array([array_3D, array_3D_2])"
   ]
  },
  {
   "cell_type": "code",
   "execution_count": 9,
   "metadata": {},
   "outputs": [
    {
     "data": {
      "text/plain": [
       "(2, 3, 2, 2)"
      ]
     },
     "execution_count": 9,
     "metadata": {},
     "output_type": "execute_result"
    }
   ],
   "source": [
    "array_4D.shape"
   ]
  },
  {
   "cell_type": "markdown",
   "metadata": {},
   "source": [
    "### Array Dimensionality"
   ]
  },
  {
   "cell_type": "markdown",
   "metadata": {},
   "source": [
    "**flattening an array**"
   ]
  },
  {
   "cell_type": "code",
   "execution_count": 10,
   "metadata": {},
   "outputs": [
    {
     "data": {
      "text/plain": [
       "array([[1, 2],\n",
       "       [5, 7]])"
      ]
     },
     "execution_count": 10,
     "metadata": {},
     "output_type": "execute_result"
    }
   ],
   "source": [
    "array_1_2D "
   ]
  },
  {
   "cell_type": "code",
   "execution_count": 11,
   "metadata": {},
   "outputs": [
    {
     "name": "stdout",
     "output_type": "stream",
     "text": [
      "[1 2 5 7]\n",
      "(4,)\n"
     ]
    }
   ],
   "source": [
    "array_1_flatten = array_1_2D.flatten()\n",
    "print(array_1_flatten)\n",
    "print(array_1_flatten.shape)"
   ]
  },
  {
   "cell_type": "markdown",
   "metadata": {},
   "source": [
    "**Reshaping an array**"
   ]
  },
  {
   "cell_type": "code",
   "execution_count": 12,
   "metadata": {},
   "outputs": [
    {
     "name": "stdout",
     "output_type": "stream",
     "text": [
      "[[[1 2]\n",
      "  [5 7]]\n",
      "\n",
      " [[8 9]\n",
      "  [5 7]]\n",
      "\n",
      " [[4 2]\n",
      "  [5 7]]]\n",
      "(3, 2, 2)\n"
     ]
    }
   ],
   "source": [
    "print(array_3D)\n",
    "print(array_3D.shape)"
   ]
  },
  {
   "cell_type": "code",
   "execution_count": 13,
   "metadata": {},
   "outputs": [],
   "source": [
    "array_3D_reshape = array_3D.reshape((3, 4))"
   ]
  },
  {
   "cell_type": "code",
   "execution_count": 14,
   "metadata": {},
   "outputs": [
    {
     "data": {
      "text/plain": [
       "array([[1, 2, 5, 7],\n",
       "       [8, 9, 5, 7],\n",
       "       [4, 2, 5, 7]])"
      ]
     },
     "execution_count": 14,
     "metadata": {},
     "output_type": "execute_result"
    }
   ],
   "source": [
    "array_3D_reshape"
   ]
  },
  {
   "cell_type": "code",
   "execution_count": 15,
   "metadata": {},
   "outputs": [
    {
     "data": {
      "text/plain": [
       "array([[1, 2],\n",
       "       [5, 7],\n",
       "       [6, 6]])"
      ]
     },
     "execution_count": 15,
     "metadata": {},
     "output_type": "execute_result"
    }
   ],
   "source": [
    "array_4_2D = np.array([[1, 2], [5, 7], [6, 6]])\n",
    "array_4_2D"
   ]
  },
  {
   "cell_type": "code",
   "execution_count": 16,
   "metadata": {},
   "outputs": [
    {
     "data": {
      "text/plain": [
       "array([[1, 2, 5],\n",
       "       [7, 6, 6]])"
      ]
     },
     "execution_count": 16,
     "metadata": {},
     "output_type": "execute_result"
    }
   ],
   "source": [
    "array_4_2D_reshaped = array_4_2D.reshape((2, 3))\n",
    "array_4_2D_reshaped"
   ]
  },
  {
   "cell_type": "markdown",
   "metadata": {},
   "source": [
    "*Note that the tuples passed to the reshape function must be compartible with the number of elements in the array for example `array_4_2D` cannot be reshaped into `(3,3)`, given that $3 * 3 = 9$ and the array only have 6 elements*"
   ]
  },
  {
   "cell_type": "markdown",
   "metadata": {},
   "source": [
    "### Data Types"
   ]
  },
  {
   "cell_type": "markdown",
   "metadata": {},
   "source": [
    "`np.int32` can store $2^{32} = 4,294,967,296$. Which ranges from `-2,147,483,648` - `2,147,483,648`"
   ]
  },
  {
   "cell_type": "code",
   "execution_count": 17,
   "metadata": {},
   "outputs": [
    {
     "name": "stdout",
     "output_type": "stream",
     "text": [
      "float64\n",
      "float32\n"
     ]
    }
   ],
   "source": [
    "print(np.array([1.0, 2.0, 3.0]).dtype)\n",
    "print(np.array([1.0, 2.0, 3.0], dtype=np.float32).dtype)"
   ]
  },
  {
   "cell_type": "markdown",
   "metadata": {},
   "source": [
    "*Note that dtype keyword also exist in other numpy functions such as: `np.arange`, `np.random.random`*"
   ]
  },
  {
   "cell_type": "markdown",
   "metadata": {},
   "source": [
    "### Type casting and Coercion"
   ]
  },
  {
   "cell_type": "code",
   "execution_count": 18,
   "metadata": {},
   "outputs": [
    {
     "name": "stdout",
     "output_type": "stream",
     "text": [
      "float64\n",
      "int64\n"
     ]
    }
   ],
   "source": [
    "z_one = np.array([1.0, 2.0, 3.0])\n",
    "print(z_one.dtype)\n",
    "z_one = z_one.astype(np.int64)\n",
    "print(z_one.dtype)"
   ]
  },
  {
   "cell_type": "markdown",
   "metadata": {},
   "source": [
    "coercion"
   ]
  },
  {
   "cell_type": "code",
   "execution_count": 19,
   "metadata": {},
   "outputs": [
    {
     "name": "stdout",
     "output_type": "stream",
     "text": [
      "<U32\n",
      "float64\n",
      "int64\n"
     ]
    }
   ],
   "source": [
    "z_num_str = np.array([1, 4.0, '5'])\n",
    "z_int_float = np.array([1, 4, 5.0])\n",
    "z_bool_int = np.array([True, False, 5])\n",
    "print(z_num_str.dtype)\n",
    "print(z_int_float.dtype)\n",
    "print(z_bool_int.dtype)"
   ]
  },
  {
   "cell_type": "code",
   "execution_count": 20,
   "metadata": {},
   "outputs": [
    {
     "data": {
      "text/plain": [
       "256"
      ]
     },
     "execution_count": 20,
     "metadata": {},
     "output_type": "execute_result"
    }
   ],
   "source": [
    "2 ** 8"
   ]
  },
  {
   "cell_type": "markdown",
   "metadata": {},
   "source": []
  },
  {
   "cell_type": "markdown",
   "metadata": {},
   "source": [
    "### Sudoku"
   ]
  },
  {
   "cell_type": "code",
   "execution_count": 21,
   "metadata": {},
   "outputs": [],
   "source": [
    "sudoku_game_list = [\n",
    "    [0, 0, 4, 3, 0, 0, 2, 0, 9],\n",
    "    [0, 0, 5, 0, 0, 9, 0, 0, 1],\n",
    "    [0, 7, 0, 0, 6, 0, 0, 4, 3],\n",
    "    [0, 0, 6, 0, 0, 2, 0, 8, 7], \n",
    "    [1, 9, 0, 0, 0, 7, 4, 0, 0],\n",
    "    [0, 5, 0, 0, 8, 3, 0, 0, 0],\n",
    "    [6, 0, 0, 0, 0, 0, 1, 0, 5],\n",
    "    [0, 0, 3, 5, 0, 8, 6, 9, 0],\n",
    "    [0, 4, 2, 9, 1, 0, 3, 0, 0]]"
   ]
  },
  {
   "cell_type": "code",
   "execution_count": 22,
   "metadata": {},
   "outputs": [
    {
     "data": {
      "text/plain": [
       "(9, 9)"
      ]
     },
     "execution_count": 22,
     "metadata": {},
     "output_type": "execute_result"
    }
   ],
   "source": [
    "sudoku_game = np.array(sudoku_game_list)\n",
    "sudoku_game.shape"
   ]
  },
  {
   "cell_type": "code",
   "execution_count": 23,
   "metadata": {},
   "outputs": [
    {
     "data": {
      "text/plain": [
       "(9, 9)"
      ]
     },
     "execution_count": 23,
     "metadata": {},
     "output_type": "execute_result"
    }
   ],
   "source": [
    "sudoku_solution_list = [\n",
    "    [8, 6, 4, 3, 7, 1, 2, 5, 9],\n",
    "    [3 ,2 ,5, 8, 4, 9, 7, 6 ,1],\n",
    "    [9, 7, 1, 2, 6, 5, 8 ,4, 3],\n",
    "    [4, 3, 6, 1, 9, 2, 5, 8, 7],\n",
    "    [1, 9, 8, 6, 5, 7, 4, 3, 2],\n",
    "    [2, 5, 7, 4, 8, 3, 9, 1, 6],\n",
    "    [6, 8, 9, 7, 3, 4, 1,2, 5],\n",
    "    [7, 1, 3, 5, 2, 8, 6, 9, 4],\n",
    "    [5, 4 ,2, 9, 1, 6, 3, 7, 8]]\n",
    "\n",
    "sudoku_solution = np.array(sudoku_solution_list)\n",
    "sudoku_solution.shape"
   ]
  },
  {
   "cell_type": "code",
   "execution_count": 24,
   "metadata": {},
   "outputs": [],
   "source": [
    "game_and_solution = np.array([sudoku_game, sudoku_solution])"
   ]
  },
  {
   "cell_type": "code",
   "execution_count": 25,
   "metadata": {},
   "outputs": [
    {
     "data": {
      "text/plain": [
       "(2, 9, 9)"
      ]
     },
     "execution_count": 25,
     "metadata": {},
     "output_type": "execute_result"
    }
   ],
   "source": [
    "game_and_solution.shape"
   ]
  },
  {
   "cell_type": "markdown",
   "metadata": {},
   "source": [
    "### Indexing and Slicing"
   ]
  },
  {
   "cell_type": "markdown",
   "metadata": {},
   "source": [
    "**indexing and slicing 1D array**"
   ]
  },
  {
   "cell_type": "code",
   "execution_count": 26,
   "metadata": {},
   "outputs": [
    {
     "name": "stdout",
     "output_type": "stream",
     "text": [
      "4\n",
      "[4 5 6]\n"
     ]
    }
   ],
   "source": [
    "array = np.array([1, 2, 3, 4, 5, 6, 7, 8, 9])\n",
    "print(array[3])\n",
    "# slice from index 3 to index 5\n",
    "print(array[3:6])"
   ]
  },
  {
   "cell_type": "markdown",
   "metadata": {},
   "source": [
    "**indexing and slicing 2D array**"
   ]
  },
  {
   "cell_type": "code",
   "execution_count": 27,
   "metadata": {},
   "outputs": [
    {
     "data": {
      "text/plain": [
       "array([[0, 0, 4, 3, 0, 0, 2, 0, 9],\n",
       "       [0, 0, 5, 0, 0, 9, 0, 0, 1],\n",
       "       [0, 7, 0, 0, 6, 0, 0, 4, 3],\n",
       "       [0, 0, 6, 0, 0, 2, 0, 8, 7],\n",
       "       [1, 9, 0, 0, 0, 7, 4, 0, 0],\n",
       "       [0, 5, 0, 0, 8, 3, 0, 0, 0],\n",
       "       [6, 0, 0, 0, 0, 0, 1, 0, 5],\n",
       "       [0, 0, 3, 5, 0, 8, 6, 9, 0],\n",
       "       [0, 4, 2, 9, 1, 0, 3, 0, 0]])"
      ]
     },
     "execution_count": 27,
     "metadata": {},
     "output_type": "execute_result"
    }
   ],
   "source": [
    "sudoku_game"
   ]
  },
  {
   "cell_type": "code",
   "execution_count": 28,
   "metadata": {},
   "outputs": [
    {
     "name": "stdout",
     "output_type": "stream",
     "text": [
      "6\n",
      "********************\n",
      "[0 0 6 0 0 2 0 8 7]\n",
      "********************\n",
      "[3 0 0 0 0 0 0 5 9]\n",
      "********************\n",
      "[[0 0 2]\n",
      " [0 0 7]\n",
      " [0 8 3]]\n",
      "********************\n",
      "[[0 2]\n",
      " [0 3]]\n"
     ]
    }
   ],
   "source": [
    "print(sudoku_game[2, 4])\n",
    "print('*'*20)\n",
    "# row index \n",
    "print(sudoku_game[3])\n",
    "print('*'*20)\n",
    "# column index for 4th column\n",
    "print(sudoku_game[:, 3])\n",
    "print('*'*20)\n",
    "# slicing from row 3 to row 5 and column 3 to column 5\n",
    "print(sudoku_game[3:6, 3:6])\n",
    "print('*'*20)\n",
    "# slicing with step value\n",
    "print(sudoku_game[3:6:2, 3:6:2])"
   ]
  },
  {
   "cell_type": "markdown",
   "metadata": {},
   "source": [
    "**Sorting arrays**"
   ]
  },
  {
   "cell_type": "code",
   "execution_count": 29,
   "metadata": {},
   "outputs": [
    {
     "name": "stdout",
     "output_type": "stream",
     "text": [
      "[[0 0 4 3 0 0 2 0 9]\n",
      " [0 0 5 0 0 9 0 0 1]\n",
      " [0 7 0 0 6 0 0 4 3]\n",
      " [0 0 6 0 0 2 0 8 7]\n",
      " [1 9 0 0 0 7 4 0 0]\n",
      " [0 5 0 0 8 3 0 0 0]\n",
      " [6 0 0 0 0 0 1 0 5]\n",
      " [0 0 3 5 0 8 6 9 0]\n",
      " [0 4 2 9 1 0 3 0 0]]\n",
      "[[0 0 0 0 0 2 3 4 9]\n",
      " [0 0 0 0 0 0 1 5 9]\n",
      " [0 0 0 0 0 3 4 6 7]\n",
      " [0 0 0 0 0 2 6 7 8]\n",
      " [0 0 0 0 0 1 4 7 9]\n",
      " [0 0 0 0 0 0 3 5 8]\n",
      " [0 0 0 0 0 0 1 5 6]\n",
      " [0 0 0 0 3 5 6 8 9]\n",
      " [0 0 0 0 1 2 3 4 9]]\n",
      "********************\n",
      "[[0 0 0 0 0 0 0 0 0]\n",
      " [0 0 0 0 0 0 0 0 0]\n",
      " [0 0 0 0 0 0 0 0 0]\n",
      " [0 0 0 0 0 0 0 0 0]\n",
      " [0 0 2 0 0 2 1 0 1]\n",
      " [0 4 3 0 0 3 2 0 3]\n",
      " [0 5 4 3 1 7 3 4 5]\n",
      " [1 7 5 5 6 8 4 8 7]\n",
      " [6 9 6 9 8 9 6 9 9]]\n"
     ]
    }
   ],
   "source": [
    "print(sudoku_game)\n",
    "# row sorting \n",
    "print(np.sort(sudoku_game))\n",
    "print('*' * 20)\n",
    "print(np.sort(sudoku_game, axis=0))"
   ]
  },
  {
   "cell_type": "code",
   "execution_count": 30,
   "metadata": {},
   "outputs": [
    {
     "data": {
      "text/plain": [
       "array([0, 0, 7, 0, 9, 5, 0, 0, 4])"
      ]
     },
     "execution_count": 30,
     "metadata": {},
     "output_type": "execute_result"
    }
   ],
   "source": [
    "sudoku_game[:, 1]"
   ]
  },
  {
   "cell_type": "markdown",
   "metadata": {},
   "source": [
    "### Filtering Arrays"
   ]
  },
  {
   "cell_type": "markdown",
   "metadata": {},
   "source": [
    "**Two ways to filter**\n",
    "\n",
    "    * Masks and fancy indexing\n",
    "    * np.where()"
   ]
  },
  {
   "cell_type": "markdown",
   "metadata": {},
   "source": [
    "**Masks 1D Array**"
   ]
  },
  {
   "cell_type": "code",
   "execution_count": 31,
   "metadata": {},
   "outputs": [
    {
     "name": "stdout",
     "output_type": "stream",
     "text": [
      "[1 2 3 4 5]\n",
      "********************\n",
      "[False  True False  True False]\n",
      "********************\n",
      "[2 4]\n"
     ]
    }
   ],
   "source": [
    "one_to_five = np.arange(1, 6)\n",
    "print(one_to_five)\n",
    "print('*' * 20)\n",
    "# mask if the number is divisible by 2\n",
    "mask = one_to_five % 2 == 0\n",
    "print(mask)\n",
    "print('*' * 20)\n",
    "# apply the mask\n",
    "print(one_to_five[mask])"
   ]
  },
  {
   "cell_type": "markdown",
   "metadata": {},
   "source": [
    "**2D Fancy indexing**"
   ]
  },
  {
   "cell_type": "code",
   "execution_count": 32,
   "metadata": {},
   "outputs": [
    {
     "name": "stdout",
     "output_type": "stream",
     "text": [
      "[[ 1 22]\n",
      " [ 2 21]\n",
      " [ 3 27]\n",
      " [ 4 26]\n",
      " [ 5 31]]\n",
      "********************\n",
      "[ True False False  True False]\n",
      "[1 4]\n"
     ]
    }
   ],
   "source": [
    "classrooms_ids_and_sizes = np.array([[1, 22], [2, 21], [3, 27], [4, 26], [5, 31]])\n",
    "print(classrooms_ids_and_sizes)\n",
    "print('*' * 20)\n",
    "even_class_size_masks = classrooms_ids_and_sizes[:, 1] % 2 == 0\n",
    "print(even_class_size_masks)\n",
    "# return the ids of the even sized classrooms\n",
    "print(classrooms_ids_and_sizes[even_class_size_masks, 0])"
   ]
  },
  {
   "cell_type": "markdown",
   "metadata": {},
   "source": [
    "**`np.where()`**\n",
    "\n",
    "* Returns array of indices \n",
    "* Can create an array based on whether elements do or don't meet a condition"
   ]
  },
  {
   "cell_type": "code",
   "execution_count": 33,
   "metadata": {},
   "outputs": [
    {
     "name": "stdout",
     "output_type": "stream",
     "text": [
      "[[ 1 22]\n",
      " [ 2 21]\n",
      " [ 3 27]\n",
      " [ 4 26]\n",
      " [ 5 31]]\n",
      "********************\n"
     ]
    },
    {
     "data": {
      "text/plain": [
       "(array([0, 3]),)"
      ]
     },
     "execution_count": 33,
     "metadata": {},
     "output_type": "execute_result"
    }
   ],
   "source": [
    "print(classrooms_ids_and_sizes)\n",
    "print('*' * 20)\n",
    "# returns indices of the even sized classrooms\n",
    "np.where(classrooms_ids_and_sizes[:, 1] % 2 == 0) # an array of tuples"
   ]
  },
  {
   "cell_type": "code",
   "execution_count": 34,
   "metadata": {},
   "outputs": [
    {
     "name": "stdout",
     "output_type": "stream",
     "text": [
      "[[0 0 4 3 0 0 2 0 9]\n",
      " [0 0 5 0 0 9 0 0 1]\n",
      " [0 7 0 0 6 0 0 4 3]\n",
      " [0 0 6 0 0 2 0 8 7]\n",
      " [1 9 0 0 0 7 4 0 0]\n",
      " [0 5 0 0 8 3 0 0 0]\n",
      " [6 0 0 0 0 0 1 0 5]\n",
      " [0 0 3 5 0 8 6 9 0]\n",
      " [0 4 2 9 1 0 3 0 0]]\n",
      "********************\n",
      "[0 0 0 0 0 1 1 1 1 1 1 2 2 2 2 2 3 3 3 3 3 4 4 4 4 4 5 5 5 5 5 5 6 6 6 6 6\n",
      " 6 7 7 7 7 8 8 8 8]\n",
      "********************\n",
      "[0 1 4 5 7 0 1 3 4 6 7 0 2 3 5 6 0 1 3 4 6 2 3 4 7 8 0 2 3 6 7 8 1 2 3 4 5\n",
      " 7 0 1 4 8 0 5 7 8]\n"
     ]
    }
   ],
   "source": [
    "print(sudoku_game)\n",
    "print('*' * 20)\n",
    "# lets returns the row and column indices of zeros in our sudoku game\n",
    "row_ind, column_ind = np.where(sudoku_game == 0)\n",
    "print(row_ind)\n",
    "print('*' * 20)\n",
    "print(column_ind)"
   ]
  },
  {
   "cell_type": "markdown",
   "metadata": {},
   "source": [
    "**Find and replace with `np.where`**"
   ]
  },
  {
   "cell_type": "code",
   "execution_count": 35,
   "metadata": {},
   "outputs": [
    {
     "data": {
      "text/plain": [
       "array([['', '', '4', '3', '', '', '2', '', '9'],\n",
       "       ['', '', '5', '', '', '9', '', '', '1'],\n",
       "       ['', '7', '', '', '6', '', '', '4', '3'],\n",
       "       ['', '', '6', '', '', '2', '', '8', '7'],\n",
       "       ['1', '9', '', '', '', '7', '4', '', ''],\n",
       "       ['', '5', '', '', '8', '3', '', '', ''],\n",
       "       ['6', '', '', '', '', '', '1', '', '5'],\n",
       "       ['', '', '3', '5', '', '8', '6', '9', ''],\n",
       "       ['', '4', '2', '9', '1', '', '3', '', '']], dtype='<U21')"
      ]
     },
     "execution_count": 35,
     "metadata": {},
     "output_type": "execute_result"
    }
   ],
   "source": [
    "# third argument specifies how to change the element if it does not meet the condition\n",
    "np.where(sudoku_game == 0, \"\", sudoku_game)"
   ]
  },
  {
   "cell_type": "code",
   "execution_count": null,
   "metadata": {},
   "outputs": [],
   "source": []
  },
  {
   "cell_type": "markdown",
   "metadata": {},
   "source": [
    "### Adding and Removing Elements"
   ]
  },
  {
   "cell_type": "code",
   "execution_count": 36,
   "metadata": {},
   "outputs": [],
   "source": [
    "# stop here"
   ]
  },
  {
   "cell_type": "code",
   "execution_count": 37,
   "metadata": {},
   "outputs": [
    {
     "name": "stdout",
     "output_type": "stream",
     "text": [
      "[[ 1 22]\n",
      " [ 2 21]\n",
      " [ 3 27]\n",
      " [ 4 26]\n",
      " [ 5 31]]\n",
      "********************\n",
      "[[ 1 22]\n",
      " [ 2 21]\n",
      " [ 3 27]\n",
      " [ 4 26]\n",
      " [ 5 31]\n",
      " [ 6 32]\n",
      " [ 7 33]\n",
      " [ 8 34]]\n"
     ]
    }
   ],
   "source": [
    "print(classrooms_ids_and_sizes)\n",
    "print('*' * 20)\n",
    "# lets add new classrooms with their ids and sizes\n",
    "new_classrooms = np.array([[6, 32], [7, 33], [8, 34]])\n",
    "classrooms_ids_and_sizes = np.concatenate((classrooms_ids_and_sizes, new_classrooms))\n",
    "print(classrooms_ids_and_sizes)"
   ]
  },
  {
   "cell_type": "markdown",
   "metadata": {},
   "source": [
    "**concatenating columns**"
   ]
  },
  {
   "cell_type": "code",
   "execution_count": 38,
   "metadata": {},
   "outputs": [
    {
     "name": "stdout",
     "output_type": "stream",
     "text": [
      "[['1' '22' '1' 'John']\n",
      " ['2' '21' '1' 'Jane']\n",
      " ['3' '27' '3' 'Joe']\n",
      " ['4' '26' '3' 'Jack']\n",
      " ['5' '31' '3' 'Joe']\n",
      " ['6' '32' '3' 'Jack']\n",
      " ['7' '33' '3' 'Joe']\n",
      " ['8' '34' '3' 'Jack']]\n"
     ]
    }
   ],
   "source": [
    "grade_levels_and_teachers = np.array([\n",
    "    [1, \"John\"], [1, \"Jane\"], \n",
    "    [3, \"Joe\"], [3, \"Jack\"],\n",
    "    [3, \"Joe\"], [3, \"Jack\"],\n",
    "    [3, \"Joe\"], [3, \"Jack\"]])\n",
    "\n",
    "classrooms = np.concatenate((classrooms_ids_and_sizes, grade_levels_and_teachers), axis=1)\n",
    "print(classrooms)"
   ]
  },
  {
   "cell_type": "markdown",
   "metadata": {},
   "source": [
    "**Note**\n",
    "\n",
    "* Arrays to be concatenated must have the same shapes along all axes except the one being concatenated along\n",
    "\n",
    "* Two arrays must have the same number of dimensions\n",
    "\n",
    "* Always reshape the `1D array` before concatenating"
   ]
  },
  {
   "cell_type": "markdown",
   "metadata": {},
   "source": [
    "**Deleting with `np.delete()`**"
   ]
  },
  {
   "cell_type": "code",
   "execution_count": 39,
   "metadata": {},
   "outputs": [
    {
     "name": "stdout",
     "output_type": "stream",
     "text": [
      "[['1' '22' '1' 'John']\n",
      " ['2' '21' '1' 'Jane']\n",
      " ['3' '27' '3' 'Joe']\n",
      " ['4' '26' '3' 'Jack']\n",
      " ['5' '31' '3' 'Joe']\n",
      " ['6' '32' '3' 'Jack']\n",
      " ['7' '33' '3' 'Joe']\n",
      " ['8' '34' '3' 'Jack']]\n",
      "********************\n",
      "[['1' '22' '1' 'John']\n",
      " ['2' '21' '1' 'Jane']\n",
      " ['3' '27' '3' 'Joe']\n",
      " ['4' '26' '3' 'Jack']\n",
      " ['5' '31' '3' 'Joe']\n",
      " ['7' '33' '3' 'Joe']\n",
      " ['8' '34' '3' 'Jack']]\n",
      "[['1' '1' 'John']\n",
      " ['2' '1' 'Jane']\n",
      " ['3' '3' 'Joe']\n",
      " ['4' '3' 'Jack']\n",
      " ['5' '3' 'Joe']\n",
      " ['7' '3' 'Joe']\n",
      " ['8' '3' 'Jack']]\n"
     ]
    }
   ],
   "source": [
    "print(classrooms)\n",
    "# lets delete the 6th row\n",
    "print('*' * 20)\n",
    "classrooms = np.delete(classrooms, 5, axis=0)\n",
    "print(classrooms)\n",
    "# lets delete the sizes row \n",
    "classrooms = np.delete(classrooms, 1, axis=1)\n",
    "print(classrooms)"
   ]
  },
  {
   "cell_type": "code",
   "execution_count": 40,
   "metadata": {},
   "outputs": [
    {
     "name": "stdout",
     "output_type": "stream",
     "text": [
      "[[0.37416148 0.81652047]\n",
      " [0.48030615 0.6117606 ]\n",
      " [0.65020038 0.52528946]\n",
      " [0.34573174 0.5438403 ]]\n",
      "********************\n",
      "[[0.51488441 0.64246635]]\n"
     ]
    },
    {
     "data": {
      "text/plain": [
       "array([[0.37416148, 0.81652047],\n",
       "       [0.48030615, 0.6117606 ],\n",
       "       [0.65020038, 0.52528946],\n",
       "       [0.34573174, 0.5438403 ],\n",
       "       [0.51488441, 0.64246635]])"
      ]
     },
     "execution_count": 40,
     "metadata": {},
     "output_type": "execute_result"
    }
   ],
   "source": [
    "x_1 = np.random.random((4,2))\n",
    "x_2 = np.random.random((2,)).reshape((1, 2))\n",
    "print(x_1)\n",
    "print('*' * 20)\n",
    "print(x_2)\n",
    "np.concatenate((x_1, x_2), axis=0)"
   ]
  },
  {
   "cell_type": "markdown",
   "metadata": {},
   "source": []
  },
  {
   "cell_type": "markdown",
   "metadata": {},
   "source": [
    "### Aggregating methods"
   ]
  },
  {
   "cell_type": "markdown",
   "metadata": {},
   "source": [
    "**`np.sum()`**"
   ]
  },
  {
   "cell_type": "code",
   "execution_count": 41,
   "metadata": {},
   "outputs": [
    {
     "name": "stdout",
     "output_type": "stream",
     "text": [
      "(5, 3)\n",
      "********************\n",
      "17\n",
      "********************\n",
      "[ 3 10  4]\n",
      "********************\n",
      "[6 2 4 5 0]\n",
      "[[6]\n",
      " [2]\n",
      " [4]\n",
      " [5]\n",
      " [0]]\n"
     ]
    }
   ],
   "source": [
    "security_breaches = np.array([\n",
    "    [0, 5, 1],\n",
    "    [0, 2, 0],\n",
    "    [1, 1, 2],\n",
    "    [2, 2, 1],\n",
    "    [0, 0, 0]\n",
    "])\n",
    "print(security_breaches.shape)\n",
    "print('*' * 20)\n",
    "# total security breaches across all years\n",
    "print(security_breaches.sum())\n",
    "print('*' * 20)\n",
    "# total security breaches per client\n",
    "print(security_breaches.sum(axis=0))\n",
    "print('*' * 20)\n",
    "# total security breaches per year\n",
    "print(security_breaches.sum(axis=1))\n",
    "# keepdims for dimension preservation\n",
    "print(security_breaches.sum(axis=1, keepdims=True))\n"
   ]
  },
  {
   "cell_type": "markdown",
   "metadata": {},
   "source": [
    "**`np.min`, `np.max`**"
   ]
  },
  {
   "cell_type": "code",
   "execution_count": 42,
   "metadata": {},
   "outputs": [
    {
     "name": "stdout",
     "output_type": "stream",
     "text": [
      "0\n",
      "5\n",
      "[0 0 1 1 0]\n",
      "[5 2 2 2 0]\n",
      "[0 0 0]\n",
      "[2 5 2]\n"
     ]
    }
   ],
   "source": [
    "# minumum security breaches across all clients and years\n",
    "print(security_breaches.min())\n",
    "# maximum security breaches across all clients and years\n",
    "print(security_breaches.max())\n",
    "# min and max security breaches across years\n",
    "print(security_breaches.min(axis=1))\n",
    "print(security_breaches.max(axis=1))\n",
    "# min and max security breaches across clients\n",
    "print(security_breaches.min(axis=0))\n",
    "print(security_breaches.max(axis=0))"
   ]
  },
  {
   "cell_type": "markdown",
   "metadata": {},
   "source": [
    "**`np.mean`**"
   ]
  },
  {
   "cell_type": "code",
   "execution_count": 43,
   "metadata": {},
   "outputs": [
    {
     "name": "stdout",
     "output_type": "stream",
     "text": [
      "1.1333333333333333\n",
      "[2.         0.66666667 1.33333333 1.66666667 0.        ]\n"
     ]
    }
   ],
   "source": [
    "# mean of all security breaches across all clients and years\n",
    "print(security_breaches.mean())\n",
    "# mean breaches by year\n",
    "print(security_breaches.mean(axis=1))"
   ]
  },
  {
   "cell_type": "markdown",
   "metadata": {},
   "source": [
    "**`np.cumsum`**"
   ]
  },
  {
   "cell_type": "code",
   "execution_count": 44,
   "metadata": {},
   "outputs": [
    {
     "name": "stdout",
     "output_type": "stream",
     "text": [
      "[[ 0  5  1]\n",
      " [ 0  7  1]\n",
      " [ 1  8  3]\n",
      " [ 3 10  4]\n",
      " [ 3 10  4]]\n"
     ]
    }
   ],
   "source": [
    "# the number of security breaches a client has had up to a given year\n",
    "print(security_breaches.cumsum(axis=0))"
   ]
  },
  {
   "cell_type": "markdown",
   "metadata": {},
   "source": [
    "**Graphing summary values**"
   ]
  },
  {
   "cell_type": "code",
   "execution_count": 45,
   "metadata": {},
   "outputs": [
    {
     "data": {
      "image/png": "[encoded data removed]",
      "text/plain": [
       "<Figure size 432x288 with 1 Axes>"
      ]
     },
     "metadata": {
      "needs_background": "light"
     },
     "output_type": "display_data"
    }
   ],
   "source": [
    "\"\"\"In the last exercise, you established that December is a big month for department stores. \n",
    "Are there other months where sales increase or decrease significantly?\n",
    "\n",
    "Your task now is to look at monthly cumulative sales for each industry.\n",
    " The slope of the cumulative sales line will explain a lot about how steady sales are over time: \n",
    " a straight line will indicate steady growth, and changes in slope will indicate relative increases \n",
    " or decreases in sales.\"\"\"\n",
    "cum_sum_by_client = security_breaches.cumsum(axis=0)\n",
    "plt.plot(np.arange(1, 6), cum_sum_by_client[:, 0], label=\"client 1\")\n",
    "plt.plot(np.arange(1, 6), cum_sum_by_client.mean(axis=1), label=\"client 2\")\n",
    "plt.legend()\n",
    "plt.show()"
   ]
  },
  {
   "cell_type": "code",
   "execution_count": null,
   "metadata": {},
   "outputs": [],
   "source": []
  },
  {
   "cell_type": "markdown",
   "metadata": {},
   "source": [
    "### Vectorized operations"
   ]
  },
  {
   "cell_type": "code",
   "execution_count": 46,
   "metadata": {},
   "outputs": [
    {
     "name": "stdout",
     "output_type": "stream",
     "text": [
      "[[4 5 6]\n",
      " [7 8 9]]\n",
      "********************\n",
      "[[ 3  6  9]\n",
      " [12 15 18]]\n",
      "********************\n",
      "[[1 3 3]\n",
      " [5 5 7]]\n",
      "********************\n",
      "[[0 2 0]\n",
      " [4 0 6]]\n",
      "********************\n",
      "[[1 1 3]\n",
      " [3 5 5]]\n",
      "********************\n",
      "True\n",
      "[ True False  True]\n"
     ]
    }
   ],
   "source": [
    "array_a = np.array([[1,2,3],[4,5,6]])\n",
    "array_b = np.array([[0,1,0],[1,0,1]])\n",
    "array_c = np.array([\"Numpy\", \"is\", \"awesome\"])\n",
    "# add a scalar to the array\n",
    "print(array_a + 3)\n",
    "print('*' * 20)\n",
    "# multiply a scalar to the array\n",
    "print(array_a * 3)\n",
    "print('*' * 20)  \n",
    "# element-wise add two arrays\n",
    "print(array_a + array_b)\n",
    "print('*' * 20)    \n",
    "# element-wise multiply two arrays\n",
    "print(array_a * array_b)\n",
    "print('*' * 20)  \n",
    "# element-wise subtraction of two arrays\n",
    "print(array_a - array_b)\n",
    "print('*' * 20)  \n",
    "\n",
    "print(len(array_c) > 2)\n",
    "# convert len to it vectorized form\n",
    "vectorized_len = np.vectorize(len) # read more np.vectorize\n",
    "print(vectorized_len(array_c) > 2)"
   ]
  },
  {
   "cell_type": "markdown",
   "metadata": {},
   "source": []
  },
  {
   "cell_type": "markdown",
   "metadata": {},
   "source": [
    "### Broadcasting"
   ]
  },
  {
   "cell_type": "markdown",
   "metadata": {},
   "source": [
    "**Compatibility rules**\n",
    "\n",
    "* Numpy compares sets of array dimensions from right to left\n",
    "\n",
    "* Two dimnensions are compatible when ...\n",
    "    * One of them has a length of 1\n",
    "    \n",
    "    * The other dimension is the same length as the first dimension"
   ]
  },
  {
   "cell_type": "code",
   "execution_count": 47,
   "metadata": {},
   "outputs": [
    {
     "name": "stdout",
     "output_type": "stream",
     "text": [
      "[[ 0  2  4  6  8]\n",
      " [ 5  7  9 11 13]]\n",
      "********************\n",
      "[[ 0  1  2  3  4]\n",
      " [ 6  7  8  9 10]]\n",
      "(2, 2)\n",
      "********************\n",
      "[[ 5 10]\n",
      " [30 40]]\n",
      "********************\n",
      "[[-4 -8]\n",
      " [-2 -6]]\n",
      "********************\n"
     ]
    }
   ],
   "source": [
    "# compartible because their right most length are equal - column based broadcasting\n",
    "array_one = np.arange(10).reshape((2, 5)) # 2 rows and 5 columns\n",
    "array_two = np.array([0, 1, 2, 3, 4]) # 1 row and 5 columns\n",
    "array_three = np.array([[1,2], [3, 4]])\n",
    "print(array_one + array_two)\n",
    "print('*' * 20)\n",
    "# this will throw an error array_one + np.array([0, 1]) because (2,5) and (2,)\n",
    "# to make it work - row based broadcasting\n",
    "print(array_one + np.array([0, 1]).reshape(2,1))\n",
    "print(array_three.shape)\n",
    "print('*' * 20)\n",
    "# multiply across row \n",
    "print(array_three * np.array([5,10]).reshape(2,1))\n",
    "print('*' * 20)\n",
    "# subtracting across columns\n",
    "print(array_three - np.array([5,10]).reshape(1,2))\n",
    "print('*' * 20)"
   ]
  },
  {
   "cell_type": "code",
   "execution_count": null,
   "metadata": {},
   "outputs": [],
   "source": []
  },
  {
   "cell_type": "markdown",
   "metadata": {},
   "source": [
    "### Saving and Loading Arrays"
   ]
  },
  {
   "cell_type": "code",
   "execution_count": 58,
   "metadata": {},
   "outputs": [],
   "source": [
    "rgb = np.array([[[255,0,0],[255,255,0],[255,255,255]],\n",
    "                [[255,0,255],[0,255,0],[0,255,255]],\n",
    "                [[0,0,0],[0,255,255],[0,0,255]]])\n",
    "# plt.imshow(rgb)\n",
    "# plt.show()"
   ]
  },
  {
   "cell_type": "code",
   "execution_count": 59,
   "metadata": {},
   "outputs": [],
   "source": [
    "# save array to .npy file\n",
    "np.save(\"rgb.npy\", rgb)"
   ]
  },
  {
   "cell_type": "code",
   "execution_count": 60,
   "metadata": {},
   "outputs": [
    {
     "data": {
      "image/png": "[encoded data removed]",
      "text/plain": [
       "<Figure size 432x288 with 1 Axes>"
      ]
     },
     "metadata": {
      "needs_background": "light"
     },
     "output_type": "display_data"
    }
   ],
   "source": [
    "# read .npy file\n",
    "with open('rgb.npy', 'rb') as f:\n",
    "    logo_rgb_array = np.load(f)\n",
    "plt.imshow(logo_rgb_array)\n",
    "plt.show()"
   ]
  },
  {
   "cell_type": "code",
   "execution_count": 62,
   "metadata": {},
   "outputs": [],
   "source": [
    "# help(np.unique)"
   ]
  },
  {
   "cell_type": "markdown",
   "metadata": {},
   "source": [
    "### Array Acrobatics"
   ]
  },
  {
   "cell_type": "code",
   "execution_count": 64,
   "metadata": {},
   "outputs": [
    {
     "data": {
      "image/png": "[encoded data removed]",
      "text/plain": [
       "<Figure size 432x288 with 1 Axes>"
      ]
     },
     "metadata": {
      "needs_background": "light"
     },
     "output_type": "display_data"
    }
   ],
   "source": [
    "with open('rgb.npy', 'rb') as f:\n",
    "    logo_rgb_array = np.load(f)\n",
    "\n",
    "flipped_logo = np.flip(logo_rgb_array)\n",
    "plt.imshow(flipped_logo)\n",
    "plt.show()"
   ]
  },
  {
   "cell_type": "code",
   "execution_count": 65,
   "metadata": {},
   "outputs": [],
   "source": [
    "# flip along axis\n",
    "# flipped_logo = np.flip(logo_rgb_array, axis=0)\n",
    "# flip along rgb channels\n",
    "# flipped_logo = np.flip(logo_rgb_array, axis=2)\n",
    "# flip along both axis\n",
    "# flipped_logo = np.flip(logo_rgb_array, axis=(0,1))"
   ]
  },
  {
   "cell_type": "markdown",
   "metadata": {},
   "source": [
    "**Transposing an array**"
   ]
  },
  {
   "cell_type": "code",
   "execution_count": 67,
   "metadata": {},
   "outputs": [
    {
     "name": "stdout",
     "output_type": "stream",
     "text": [
      "[[4.3 4.2 4.1]\n",
      " [3.3 3.2 3.1]\n",
      " [2.3 2.2 2.1]\n",
      " [1.3 1.2 1.1]]\n",
      "********************\n",
      "[[1.1 2.1 3.1 4.1]\n",
      " [1.2 2.2 3.2 4.2]\n",
      " [1.3 2.3 3.3 4.3]]\n"
     ]
    }
   ],
   "source": [
    "array = np.array([[1.1, 1.2, 1.3],\n",
    "                  [2.1, 2.2, 2.3],\n",
    "                  [3.1, 3.2, 3.3],\n",
    "                  [4.1, 4.2, 4.3]])\n",
    "print(np.flip(array))\n",
    "print('*' * 20)\n",
    "print(np.transpose(array))"
   ]
  },
  {
   "cell_type": "code",
   "execution_count": null,
   "metadata": {},
   "outputs": [],
   "source": [
    "# transpose along axis\n",
    "# print(np.transpose(array, axes=(1, 0, 2)))"
   ]
  },
  {
   "cell_type": "markdown",
   "metadata": {},
   "source": [
    "### Stacking and Spliting "
   ]
  },
  {
   "cell_type": "code",
   "execution_count": 70,
   "metadata": {},
   "outputs": [
    {
     "data": {
      "text/plain": [
       "(3, 3)"
      ]
     },
     "execution_count": 70,
     "metadata": {},
     "output_type": "execute_result"
    }
   ],
   "source": [
    "red_channel = rgb[:, :, 0]\n",
    "green_channel = rgb[:, :, 1]\n",
    "blue_channel = rgb[:, :, 2]\n",
    "red_channel.shape\n"
   ]
  },
  {
   "cell_type": "markdown",
   "metadata": {},
   "source": [
    "**Splitting arrays**"
   ]
  },
  {
   "cell_type": "code",
   "execution_count": 73,
   "metadata": {},
   "outputs": [
    {
     "data": {
      "image/png": "[encoded data removed]",
      "text/plain": [
       "<Figure size 432x288 with 1 Axes>"
      ]
     },
     "metadata": {
      "needs_background": "light"
     },
     "output_type": "display_data"
    }
   ],
   "source": [
    "# split arrays have the same dimension as the original array\n",
    "red_array, green_array, blue_array = np.split(rgb, 3, axis=2)\n",
    "plt.imshow(red_array)\n",
    "plt.show()"
   ]
  },
  {
   "cell_type": "markdown",
   "metadata": {},
   "source": [
    "**Stacking arrays**"
   ]
  },
  {
   "cell_type": "code",
   "execution_count": 77,
   "metadata": {},
   "outputs": [
    {
     "data": {
      "image/png": "[encoded data removed]",
      "text/plain": [
       "<Figure size 432x288 with 1 Axes>"
      ]
     },
     "metadata": {
      "needs_background": "light"
     },
     "output_type": "display_data"
    }
   ],
   "source": [
    "# stacking arrays in new dimension \n",
    "red_array = np.zeros((3, 3)).astype(np.int32)\n",
    "green_array = green_array.reshape((3, 3))\n",
    "blue_array = blue_array.reshape((3, 3))\n",
    "\n",
    "# np.stack\n",
    "stacked_rgb = np.stack([red_array, green_array, blue_array], axis=2)\n",
    "plt.imshow(stacked_rgb)\n",
    "plt.show()"
   ]
  }
 ],
 "metadata": {
  "kernelspec": {
   "display_name": "Python 3.9.13 ('.venv': venv)",
   "language": "python",
   "name": "python3"
  },
  "language_info": {
   "codemirror_mode": {
    "name": "ipython",
    "version": 3
   },
   "file_extension": ".py",
   "mimetype": "text/x-python",
   "name": "python",
   "nbconvert_exporter": "python",
   "pygments_lexer": "ipython3",
   "version": "3.9.13"
  },
  "orig_nbformat": 4,
  "vscode": {
   "interpreter": {
    "hash": "94bc7336835e7e90c637ab9c42b51dac58f4f7eeeca2036160951240d899b243"
   }
  }
 },
 "nbformat": 4,
 "nbformat_minor": 2
}
